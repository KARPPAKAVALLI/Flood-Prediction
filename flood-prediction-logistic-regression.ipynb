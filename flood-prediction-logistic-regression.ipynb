{
 "cells": [
  {
   "cell_type": "code",
   "execution_count": 1,
   "id": "c1d9d111",
   "metadata": {
    "execution": {
     "iopub.execute_input": "2024-10-10T05:14:48.548574Z",
     "iopub.status.busy": "2024-10-10T05:14:48.548068Z",
     "iopub.status.idle": "2024-10-10T05:14:49.462300Z",
     "shell.execute_reply": "2024-10-10T05:14:49.461155Z"
    },
    "papermill": {
     "duration": 0.927069,
     "end_time": "2024-10-10T05:14:49.465371",
     "exception": false,
     "start_time": "2024-10-10T05:14:48.538302",
     "status": "completed"
    },
    "tags": []
   },
   "outputs": [],
   "source": [
    "#import libraries\n",
    "import numpy as np\n",
    "import pandas as pd"
   ]
  },
  {
   "cell_type": "markdown",
   "id": "f1804839",
   "metadata": {
    "papermill": {
     "duration": 0.007131,
     "end_time": "2024-10-10T05:14:49.480310",
     "exception": false,
     "start_time": "2024-10-10T05:14:49.473179",
     "status": "completed"
    },
    "tags": []
   },
   "source": [
    "# EDA"
   ]
  },
  {
   "cell_type": "code",
   "execution_count": 2,
   "id": "0a319562",
   "metadata": {
    "execution": {
     "iopub.execute_input": "2024-10-10T05:14:49.497312Z",
     "iopub.status.busy": "2024-10-10T05:14:49.496711Z",
     "iopub.status.idle": "2024-10-10T05:14:49.550327Z",
     "shell.execute_reply": "2024-10-10T05:14:49.549027Z"
    },
    "papermill": {
     "duration": 0.065531,
     "end_time": "2024-10-10T05:14:49.553182",
     "exception": false,
     "start_time": "2024-10-10T05:14:49.487651",
     "status": "completed"
    },
    "tags": []
   },
   "outputs": [
    {
     "data": {
      "text/html": [
       "<div>\n",
       "<style scoped>\n",
       "    .dataframe tbody tr th:only-of-type {\n",
       "        vertical-align: middle;\n",
       "    }\n",
       "\n",
       "    .dataframe tbody tr th {\n",
       "        vertical-align: top;\n",
       "    }\n",
       "\n",
       "    .dataframe thead th {\n",
       "        text-align: right;\n",
       "    }\n",
       "</style>\n",
       "<table border=\"1\" class=\"dataframe\">\n",
       "  <thead>\n",
       "    <tr style=\"text-align: right;\">\n",
       "      <th></th>\n",
       "      <th>SUBDIVISION</th>\n",
       "      <th>YEAR</th>\n",
       "      <th>JAN</th>\n",
       "      <th>FEB</th>\n",
       "      <th>MAR</th>\n",
       "      <th>APR</th>\n",
       "      <th>MAY</th>\n",
       "      <th>JUN</th>\n",
       "      <th>JUL</th>\n",
       "      <th>AUG</th>\n",
       "      <th>SEP</th>\n",
       "      <th>OCT</th>\n",
       "      <th>NOV</th>\n",
       "      <th>DEC</th>\n",
       "      <th>ANNUAL RAINFALL</th>\n",
       "      <th>FLOODS</th>\n",
       "    </tr>\n",
       "  </thead>\n",
       "  <tbody>\n",
       "    <tr>\n",
       "      <th>0</th>\n",
       "      <td>KERALA</td>\n",
       "      <td>1901</td>\n",
       "      <td>28.7</td>\n",
       "      <td>44.7</td>\n",
       "      <td>51.6</td>\n",
       "      <td>160.0</td>\n",
       "      <td>174.7</td>\n",
       "      <td>824.6</td>\n",
       "      <td>743.0</td>\n",
       "      <td>357.5</td>\n",
       "      <td>197.7</td>\n",
       "      <td>266.9</td>\n",
       "      <td>350.8</td>\n",
       "      <td>48.4</td>\n",
       "      <td>3248.6</td>\n",
       "      <td>YES</td>\n",
       "    </tr>\n",
       "    <tr>\n",
       "      <th>1</th>\n",
       "      <td>KERALA</td>\n",
       "      <td>1902</td>\n",
       "      <td>6.7</td>\n",
       "      <td>2.6</td>\n",
       "      <td>57.3</td>\n",
       "      <td>83.9</td>\n",
       "      <td>134.5</td>\n",
       "      <td>390.9</td>\n",
       "      <td>1205.0</td>\n",
       "      <td>315.8</td>\n",
       "      <td>491.6</td>\n",
       "      <td>358.4</td>\n",
       "      <td>158.3</td>\n",
       "      <td>121.5</td>\n",
       "      <td>3326.6</td>\n",
       "      <td>YES</td>\n",
       "    </tr>\n",
       "    <tr>\n",
       "      <th>2</th>\n",
       "      <td>KERALA</td>\n",
       "      <td>1903</td>\n",
       "      <td>3.2</td>\n",
       "      <td>18.6</td>\n",
       "      <td>3.1</td>\n",
       "      <td>83.6</td>\n",
       "      <td>249.7</td>\n",
       "      <td>558.6</td>\n",
       "      <td>1022.5</td>\n",
       "      <td>420.2</td>\n",
       "      <td>341.8</td>\n",
       "      <td>354.1</td>\n",
       "      <td>157.0</td>\n",
       "      <td>59.0</td>\n",
       "      <td>3271.2</td>\n",
       "      <td>YES</td>\n",
       "    </tr>\n",
       "    <tr>\n",
       "      <th>3</th>\n",
       "      <td>KERALA</td>\n",
       "      <td>1904</td>\n",
       "      <td>23.7</td>\n",
       "      <td>3.0</td>\n",
       "      <td>32.2</td>\n",
       "      <td>71.5</td>\n",
       "      <td>235.7</td>\n",
       "      <td>1098.2</td>\n",
       "      <td>725.5</td>\n",
       "      <td>351.8</td>\n",
       "      <td>222.7</td>\n",
       "      <td>328.1</td>\n",
       "      <td>33.9</td>\n",
       "      <td>3.3</td>\n",
       "      <td>3129.7</td>\n",
       "      <td>YES</td>\n",
       "    </tr>\n",
       "    <tr>\n",
       "      <th>4</th>\n",
       "      <td>KERALA</td>\n",
       "      <td>1905</td>\n",
       "      <td>1.2</td>\n",
       "      <td>22.3</td>\n",
       "      <td>9.4</td>\n",
       "      <td>105.9</td>\n",
       "      <td>263.3</td>\n",
       "      <td>850.2</td>\n",
       "      <td>520.5</td>\n",
       "      <td>293.6</td>\n",
       "      <td>217.2</td>\n",
       "      <td>383.5</td>\n",
       "      <td>74.4</td>\n",
       "      <td>0.2</td>\n",
       "      <td>2741.6</td>\n",
       "      <td>NO</td>\n",
       "    </tr>\n",
       "  </tbody>\n",
       "</table>\n",
       "</div>"
      ],
      "text/plain": [
       "  SUBDIVISION  YEAR   JAN   FEB   MAR    APR    MAY     JUN     JUL    AUG  \\\n",
       "0      KERALA  1901  28.7  44.7  51.6  160.0  174.7   824.6   743.0  357.5   \n",
       "1      KERALA  1902   6.7   2.6  57.3   83.9  134.5   390.9  1205.0  315.8   \n",
       "2      KERALA  1903   3.2  18.6   3.1   83.6  249.7   558.6  1022.5  420.2   \n",
       "3      KERALA  1904  23.7   3.0  32.2   71.5  235.7  1098.2   725.5  351.8   \n",
       "4      KERALA  1905   1.2  22.3   9.4  105.9  263.3   850.2   520.5  293.6   \n",
       "\n",
       "     SEP    OCT    NOV    DEC   ANNUAL RAINFALL FLOODS  \n",
       "0  197.7  266.9  350.8   48.4            3248.6    YES  \n",
       "1  491.6  358.4  158.3  121.5            3326.6    YES  \n",
       "2  341.8  354.1  157.0   59.0            3271.2    YES  \n",
       "3  222.7  328.1   33.9    3.3            3129.7    YES  \n",
       "4  217.2  383.5   74.4    0.2            2741.6     NO  "
      ]
     },
     "execution_count": 2,
     "metadata": {},
     "output_type": "execute_result"
    }
   ],
   "source": [
    "#Read the data present in dataset\n",
    "data = pd.read_csv('../input/kerela-flood/kerala.csv')\n",
    "#Using data.head() we can see the top 5 rows of the dataset\n",
    "data.head()"
   ]
  },
  {
   "cell_type": "markdown",
   "id": "9f15fa7a",
   "metadata": {
    "papermill": {
     "duration": 0.007437,
     "end_time": "2024-10-10T05:14:49.568502",
     "exception": false,
     "start_time": "2024-10-10T05:14:49.561065",
     "status": "completed"
    },
    "tags": []
   },
   "source": [
    "**check for empty columns**"
   ]
  },
  {
   "cell_type": "code",
   "execution_count": 3,
   "id": "71414740",
   "metadata": {
    "execution": {
     "iopub.execute_input": "2024-10-10T05:14:49.586179Z",
     "iopub.status.busy": "2024-10-10T05:14:49.585689Z",
     "iopub.status.idle": "2024-10-10T05:14:49.601157Z",
     "shell.execute_reply": "2024-10-10T05:14:49.599935Z"
    },
    "papermill": {
     "duration": 0.027301,
     "end_time": "2024-10-10T05:14:49.603679",
     "exception": false,
     "start_time": "2024-10-10T05:14:49.576378",
     "status": "completed"
    },
    "tags": []
   },
   "outputs": [
    {
     "data": {
      "text/plain": [
       "SUBDIVISION         0\n",
       "YEAR                0\n",
       "JAN                 0\n",
       "FEB                 0\n",
       "MAR                 0\n",
       "APR                 0\n",
       "MAY                 0\n",
       "JUN                 0\n",
       "JUL                 0\n",
       "AUG                 0\n",
       "SEP                 0\n",
       "OCT                 0\n",
       "NOV                 0\n",
       "DEC                 0\n",
       " ANNUAL RAINFALL    0\n",
       "FLOODS              0\n",
       "dtype: int64"
      ]
     },
     "execution_count": 3,
     "metadata": {},
     "output_type": "execute_result"
    }
   ],
   "source": [
    "data.apply(lambda x:sum(x.isnull()), axis=0)"
   ]
  },
  {
   "cell_type": "markdown",
   "id": "fe8860e7",
   "metadata": {
    "papermill": {
     "duration": 0.008917,
     "end_time": "2024-10-10T05:14:49.620816",
     "exception": false,
     "start_time": "2024-10-10T05:14:49.611899",
     "status": "completed"
    },
    "tags": []
   },
   "source": [
    "**replacing yes / no  with 0 / 1**"
   ]
  },
  {
   "cell_type": "code",
   "execution_count": 4,
   "id": "1b437463",
   "metadata": {
    "execution": {
     "iopub.execute_input": "2024-10-10T05:14:49.639069Z",
     "iopub.status.busy": "2024-10-10T05:14:49.638241Z",
     "iopub.status.idle": "2024-10-10T05:14:49.646906Z",
     "shell.execute_reply": "2024-10-10T05:14:49.645575Z"
    },
    "papermill": {
     "duration": 0.021099,
     "end_time": "2024-10-10T05:14:49.649767",
     "exception": false,
     "start_time": "2024-10-10T05:14:49.628668",
     "status": "completed"
    },
    "tags": []
   },
   "outputs": [
    {
     "name": "stderr",
     "output_type": "stream",
     "text": [
      "/tmp/ipykernel_17/3568242235.py:1: FutureWarning: Downcasting behavior in `replace` is deprecated and will be removed in a future version. To retain the old behavior, explicitly call `result.infer_objects(copy=False)`. To opt-in to the future behavior, set `pd.set_option('future.no_silent_downcasting', True)`\n",
      "  data['FLOODS'] = data['FLOODS'].replace(['YES', 'NO'], [1, 0])\n"
     ]
    }
   ],
   "source": [
    "data['FLOODS'] = data['FLOODS'].replace(['YES', 'NO'], [1, 0])"
   ]
  },
  {
   "cell_type": "code",
   "execution_count": 5,
   "id": "b366e250",
   "metadata": {
    "execution": {
     "iopub.execute_input": "2024-10-10T05:14:49.668516Z",
     "iopub.status.busy": "2024-10-10T05:14:49.667991Z",
     "iopub.status.idle": "2024-10-10T05:14:49.696243Z",
     "shell.execute_reply": "2024-10-10T05:14:49.694954Z"
    },
    "papermill": {
     "duration": 0.040601,
     "end_time": "2024-10-10T05:14:49.698756",
     "exception": false,
     "start_time": "2024-10-10T05:14:49.658155",
     "status": "completed"
    },
    "tags": []
   },
   "outputs": [
    {
     "data": {
      "text/html": [
       "<div>\n",
       "<style scoped>\n",
       "    .dataframe tbody tr th:only-of-type {\n",
       "        vertical-align: middle;\n",
       "    }\n",
       "\n",
       "    .dataframe tbody tr th {\n",
       "        vertical-align: top;\n",
       "    }\n",
       "\n",
       "    .dataframe thead th {\n",
       "        text-align: right;\n",
       "    }\n",
       "</style>\n",
       "<table border=\"1\" class=\"dataframe\">\n",
       "  <thead>\n",
       "    <tr style=\"text-align: right;\">\n",
       "      <th></th>\n",
       "      <th>SUBDIVISION</th>\n",
       "      <th>YEAR</th>\n",
       "      <th>JAN</th>\n",
       "      <th>FEB</th>\n",
       "      <th>MAR</th>\n",
       "      <th>APR</th>\n",
       "      <th>MAY</th>\n",
       "      <th>JUN</th>\n",
       "      <th>JUL</th>\n",
       "      <th>AUG</th>\n",
       "      <th>SEP</th>\n",
       "      <th>OCT</th>\n",
       "      <th>NOV</th>\n",
       "      <th>DEC</th>\n",
       "      <th>ANNUAL RAINFALL</th>\n",
       "      <th>FLOODS</th>\n",
       "    </tr>\n",
       "  </thead>\n",
       "  <tbody>\n",
       "    <tr>\n",
       "      <th>0</th>\n",
       "      <td>KERALA</td>\n",
       "      <td>1901</td>\n",
       "      <td>28.7</td>\n",
       "      <td>44.7</td>\n",
       "      <td>51.6</td>\n",
       "      <td>160.0</td>\n",
       "      <td>174.7</td>\n",
       "      <td>824.6</td>\n",
       "      <td>743.0</td>\n",
       "      <td>357.5</td>\n",
       "      <td>197.7</td>\n",
       "      <td>266.9</td>\n",
       "      <td>350.8</td>\n",
       "      <td>48.4</td>\n",
       "      <td>3248.6</td>\n",
       "      <td>1</td>\n",
       "    </tr>\n",
       "    <tr>\n",
       "      <th>1</th>\n",
       "      <td>KERALA</td>\n",
       "      <td>1902</td>\n",
       "      <td>6.7</td>\n",
       "      <td>2.6</td>\n",
       "      <td>57.3</td>\n",
       "      <td>83.9</td>\n",
       "      <td>134.5</td>\n",
       "      <td>390.9</td>\n",
       "      <td>1205.0</td>\n",
       "      <td>315.8</td>\n",
       "      <td>491.6</td>\n",
       "      <td>358.4</td>\n",
       "      <td>158.3</td>\n",
       "      <td>121.5</td>\n",
       "      <td>3326.6</td>\n",
       "      <td>1</td>\n",
       "    </tr>\n",
       "    <tr>\n",
       "      <th>2</th>\n",
       "      <td>KERALA</td>\n",
       "      <td>1903</td>\n",
       "      <td>3.2</td>\n",
       "      <td>18.6</td>\n",
       "      <td>3.1</td>\n",
       "      <td>83.6</td>\n",
       "      <td>249.7</td>\n",
       "      <td>558.6</td>\n",
       "      <td>1022.5</td>\n",
       "      <td>420.2</td>\n",
       "      <td>341.8</td>\n",
       "      <td>354.1</td>\n",
       "      <td>157.0</td>\n",
       "      <td>59.0</td>\n",
       "      <td>3271.2</td>\n",
       "      <td>1</td>\n",
       "    </tr>\n",
       "    <tr>\n",
       "      <th>3</th>\n",
       "      <td>KERALA</td>\n",
       "      <td>1904</td>\n",
       "      <td>23.7</td>\n",
       "      <td>3.0</td>\n",
       "      <td>32.2</td>\n",
       "      <td>71.5</td>\n",
       "      <td>235.7</td>\n",
       "      <td>1098.2</td>\n",
       "      <td>725.5</td>\n",
       "      <td>351.8</td>\n",
       "      <td>222.7</td>\n",
       "      <td>328.1</td>\n",
       "      <td>33.9</td>\n",
       "      <td>3.3</td>\n",
       "      <td>3129.7</td>\n",
       "      <td>1</td>\n",
       "    </tr>\n",
       "    <tr>\n",
       "      <th>4</th>\n",
       "      <td>KERALA</td>\n",
       "      <td>1905</td>\n",
       "      <td>1.2</td>\n",
       "      <td>22.3</td>\n",
       "      <td>9.4</td>\n",
       "      <td>105.9</td>\n",
       "      <td>263.3</td>\n",
       "      <td>850.2</td>\n",
       "      <td>520.5</td>\n",
       "      <td>293.6</td>\n",
       "      <td>217.2</td>\n",
       "      <td>383.5</td>\n",
       "      <td>74.4</td>\n",
       "      <td>0.2</td>\n",
       "      <td>2741.6</td>\n",
       "      <td>0</td>\n",
       "    </tr>\n",
       "  </tbody>\n",
       "</table>\n",
       "</div>"
      ],
      "text/plain": [
       "  SUBDIVISION  YEAR   JAN   FEB   MAR    APR    MAY     JUN     JUL    AUG  \\\n",
       "0      KERALA  1901  28.7  44.7  51.6  160.0  174.7   824.6   743.0  357.5   \n",
       "1      KERALA  1902   6.7   2.6  57.3   83.9  134.5   390.9  1205.0  315.8   \n",
       "2      KERALA  1903   3.2  18.6   3.1   83.6  249.7   558.6  1022.5  420.2   \n",
       "3      KERALA  1904  23.7   3.0  32.2   71.5  235.7  1098.2   725.5  351.8   \n",
       "4      KERALA  1905   1.2  22.3   9.4  105.9  263.3   850.2   520.5  293.6   \n",
       "\n",
       "     SEP    OCT    NOV    DEC   ANNUAL RAINFALL  FLOODS  \n",
       "0  197.7  266.9  350.8   48.4            3248.6       1  \n",
       "1  491.6  358.4  158.3  121.5            3326.6       1  \n",
       "2  341.8  354.1  157.0   59.0            3271.2       1  \n",
       "3  222.7  328.1   33.9    3.3            3129.7       1  \n",
       "4  217.2  383.5   74.4    0.2            2741.6       0  "
      ]
     },
     "execution_count": 5,
     "metadata": {},
     "output_type": "execute_result"
    }
   ],
   "source": [
    "data.head()"
   ]
  },
  {
   "cell_type": "markdown",
   "id": "85514c22",
   "metadata": {
    "papermill": {
     "duration": 0.008128,
     "end_time": "2024-10-10T05:14:49.715234",
     "exception": false,
     "start_time": "2024-10-10T05:14:49.707106",
     "status": "completed"
    },
    "tags": []
   },
   "source": [
    "**separate data for prediction**"
   ]
  },
  {
   "cell_type": "code",
   "execution_count": 6,
   "id": "ae48baa6",
   "metadata": {
    "execution": {
     "iopub.execute_input": "2024-10-10T05:14:49.734471Z",
     "iopub.status.busy": "2024-10-10T05:14:49.733144Z",
     "iopub.status.idle": "2024-10-10T05:14:49.762228Z",
     "shell.execute_reply": "2024-10-10T05:14:49.760887Z"
    },
    "papermill": {
     "duration": 0.041414,
     "end_time": "2024-10-10T05:14:49.764861",
     "exception": false,
     "start_time": "2024-10-10T05:14:49.723447",
     "status": "completed"
    },
    "tags": []
   },
   "outputs": [
    {
     "data": {
      "text/html": [
       "<div>\n",
       "<style scoped>\n",
       "    .dataframe tbody tr th:only-of-type {\n",
       "        vertical-align: middle;\n",
       "    }\n",
       "\n",
       "    .dataframe tbody tr th {\n",
       "        vertical-align: top;\n",
       "    }\n",
       "\n",
       "    .dataframe thead th {\n",
       "        text-align: right;\n",
       "    }\n",
       "</style>\n",
       "<table border=\"1\" class=\"dataframe\">\n",
       "  <thead>\n",
       "    <tr style=\"text-align: right;\">\n",
       "      <th></th>\n",
       "      <th>YEAR</th>\n",
       "      <th>JAN</th>\n",
       "      <th>FEB</th>\n",
       "      <th>MAR</th>\n",
       "      <th>APR</th>\n",
       "      <th>MAY</th>\n",
       "      <th>JUN</th>\n",
       "      <th>JUL</th>\n",
       "      <th>AUG</th>\n",
       "      <th>SEP</th>\n",
       "      <th>OCT</th>\n",
       "      <th>NOV</th>\n",
       "      <th>DEC</th>\n",
       "    </tr>\n",
       "  </thead>\n",
       "  <tbody>\n",
       "    <tr>\n",
       "      <th>0</th>\n",
       "      <td>1901</td>\n",
       "      <td>28.7</td>\n",
       "      <td>44.7</td>\n",
       "      <td>51.6</td>\n",
       "      <td>160.0</td>\n",
       "      <td>174.7</td>\n",
       "      <td>824.6</td>\n",
       "      <td>743.0</td>\n",
       "      <td>357.5</td>\n",
       "      <td>197.7</td>\n",
       "      <td>266.9</td>\n",
       "      <td>350.8</td>\n",
       "      <td>48.4</td>\n",
       "    </tr>\n",
       "    <tr>\n",
       "      <th>1</th>\n",
       "      <td>1902</td>\n",
       "      <td>6.7</td>\n",
       "      <td>2.6</td>\n",
       "      <td>57.3</td>\n",
       "      <td>83.9</td>\n",
       "      <td>134.5</td>\n",
       "      <td>390.9</td>\n",
       "      <td>1205.0</td>\n",
       "      <td>315.8</td>\n",
       "      <td>491.6</td>\n",
       "      <td>358.4</td>\n",
       "      <td>158.3</td>\n",
       "      <td>121.5</td>\n",
       "    </tr>\n",
       "    <tr>\n",
       "      <th>2</th>\n",
       "      <td>1903</td>\n",
       "      <td>3.2</td>\n",
       "      <td>18.6</td>\n",
       "      <td>3.1</td>\n",
       "      <td>83.6</td>\n",
       "      <td>249.7</td>\n",
       "      <td>558.6</td>\n",
       "      <td>1022.5</td>\n",
       "      <td>420.2</td>\n",
       "      <td>341.8</td>\n",
       "      <td>354.1</td>\n",
       "      <td>157.0</td>\n",
       "      <td>59.0</td>\n",
       "    </tr>\n",
       "    <tr>\n",
       "      <th>3</th>\n",
       "      <td>1904</td>\n",
       "      <td>23.7</td>\n",
       "      <td>3.0</td>\n",
       "      <td>32.2</td>\n",
       "      <td>71.5</td>\n",
       "      <td>235.7</td>\n",
       "      <td>1098.2</td>\n",
       "      <td>725.5</td>\n",
       "      <td>351.8</td>\n",
       "      <td>222.7</td>\n",
       "      <td>328.1</td>\n",
       "      <td>33.9</td>\n",
       "      <td>3.3</td>\n",
       "    </tr>\n",
       "    <tr>\n",
       "      <th>4</th>\n",
       "      <td>1905</td>\n",
       "      <td>1.2</td>\n",
       "      <td>22.3</td>\n",
       "      <td>9.4</td>\n",
       "      <td>105.9</td>\n",
       "      <td>263.3</td>\n",
       "      <td>850.2</td>\n",
       "      <td>520.5</td>\n",
       "      <td>293.6</td>\n",
       "      <td>217.2</td>\n",
       "      <td>383.5</td>\n",
       "      <td>74.4</td>\n",
       "      <td>0.2</td>\n",
       "    </tr>\n",
       "  </tbody>\n",
       "</table>\n",
       "</div>"
      ],
      "text/plain": [
       "   YEAR   JAN   FEB   MAR    APR    MAY     JUN     JUL    AUG    SEP    OCT  \\\n",
       "0  1901  28.7  44.7  51.6  160.0  174.7   824.6   743.0  357.5  197.7  266.9   \n",
       "1  1902   6.7   2.6  57.3   83.9  134.5   390.9  1205.0  315.8  491.6  358.4   \n",
       "2  1903   3.2  18.6   3.1   83.6  249.7   558.6  1022.5  420.2  341.8  354.1   \n",
       "3  1904  23.7   3.0  32.2   71.5  235.7  1098.2   725.5  351.8  222.7  328.1   \n",
       "4  1905   1.2  22.3   9.4  105.9  263.3   850.2   520.5  293.6  217.2  383.5   \n",
       "\n",
       "     NOV    DEC  \n",
       "0  350.8   48.4  \n",
       "1  158.3  121.5  \n",
       "2  157.0   59.0  \n",
       "3   33.9    3.3  \n",
       "4   74.4    0.2  "
      ]
     },
     "execution_count": 6,
     "metadata": {},
     "output_type": "execute_result"
    }
   ],
   "source": [
    "x = data.iloc[:,1:14]\n",
    "x.head()"
   ]
  },
  {
   "cell_type": "markdown",
   "id": "8d7c5601",
   "metadata": {
    "papermill": {
     "duration": 0.00846,
     "end_time": "2024-10-10T05:14:49.782271",
     "exception": false,
     "start_time": "2024-10-10T05:14:49.773811",
     "status": "completed"
    },
    "tags": []
   },
   "source": [
    "**separate flood label**"
   ]
  },
  {
   "cell_type": "code",
   "execution_count": 7,
   "id": "76c2fa28",
   "metadata": {
    "execution": {
     "iopub.execute_input": "2024-10-10T05:14:49.800902Z",
     "iopub.status.busy": "2024-10-10T05:14:49.800482Z",
     "iopub.status.idle": "2024-10-10T05:14:49.809886Z",
     "shell.execute_reply": "2024-10-10T05:14:49.808719Z"
    },
    "papermill": {
     "duration": 0.021629,
     "end_time": "2024-10-10T05:14:49.812254",
     "exception": false,
     "start_time": "2024-10-10T05:14:49.790625",
     "status": "completed"
    },
    "tags": []
   },
   "outputs": [
    {
     "data": {
      "text/plain": [
       "0    1\n",
       "1    1\n",
       "2    1\n",
       "3    1\n",
       "4    0\n",
       "Name: FLOODS, dtype: int64"
      ]
     },
     "execution_count": 7,
     "metadata": {},
     "output_type": "execute_result"
    }
   ],
   "source": [
    "y = data.iloc[:, -1]\n",
    "y.head()"
   ]
  },
  {
   "cell_type": "markdown",
   "id": "8db755ef",
   "metadata": {
    "papermill": {
     "duration": 0.008521,
     "end_time": "2024-10-10T05:14:49.831160",
     "exception": false,
     "start_time": "2024-10-10T05:14:49.822639",
     "status": "completed"
    },
    "tags": []
   },
   "source": [
    "**rainfall variation during rainy season**"
   ]
  },
  {
   "cell_type": "code",
   "execution_count": 8,
   "id": "fab5df80",
   "metadata": {
    "execution": {
     "iopub.execute_input": "2024-10-10T05:14:49.850852Z",
     "iopub.status.busy": "2024-10-10T05:14:49.849713Z",
     "iopub.status.idle": "2024-10-10T05:14:50.593303Z",
     "shell.execute_reply": "2024-10-10T05:14:50.591942Z"
    },
    "papermill": {
     "duration": 0.7563,
     "end_time": "2024-10-10T05:14:50.596022",
     "exception": false,
     "start_time": "2024-10-10T05:14:49.839722",
     "status": "completed"
    },
    "tags": []
   },
   "outputs": [
    {
     "data": {
      "image/png": "[encoded data removed]",
      "text/plain": [
       "<Figure size 640x480 with 4 Axes>"
      ]
     },
     "metadata": {},
     "output_type": "display_data"
    }
   ],
   "source": [
    "import matplotlib.pyplot as plt\n",
    "%matplotlib inline\n",
    "c = data[['JUN','JUL','AUG','SEP']]\n",
    "c.hist()\n",
    "plt.show()"
   ]
  },
  {
   "cell_type": "markdown",
   "id": "74dd59c9",
   "metadata": {
    "papermill": {
     "duration": 0.009696,
     "end_time": "2024-10-10T05:14:50.615183",
     "exception": false,
     "start_time": "2024-10-10T05:14:50.605487",
     "status": "completed"
    },
    "tags": []
   },
   "source": [
    "**Data Scaling**"
   ]
  },
  {
   "cell_type": "code",
   "execution_count": 9,
   "id": "9824b159",
   "metadata": {
    "execution": {
     "iopub.execute_input": "2024-10-10T05:14:50.636963Z",
     "iopub.status.busy": "2024-10-10T05:14:50.635978Z",
     "iopub.status.idle": "2024-10-10T05:14:52.024068Z",
     "shell.execute_reply": "2024-10-10T05:14:52.022696Z"
    },
    "papermill": {
     "duration": 1.401796,
     "end_time": "2024-10-10T05:14:52.026986",
     "exception": false,
     "start_time": "2024-10-10T05:14:50.625190",
     "status": "completed"
    },
    "tags": []
   },
   "outputs": [
    {
     "data": {
      "text/plain": [
       "array([[0.        , 0.34371257, 0.56582278, ..., 0.39727673, 0.95570189,\n",
       "        0.2388724 ],\n",
       "       [0.00854701, 0.08023952, 0.03291139, ..., 0.5804966 , 0.37952709,\n",
       "        0.60039565],\n",
       "       [0.01709402, 0.03832335, 0.23544304, ..., 0.57188626, 0.37563604,\n",
       "        0.29129575],\n",
       "       ...,\n",
       "       [0.98290598, 0.02874251, 0.04810127, ..., 0.31517821, 0.28105358,\n",
       "        0.11622156],\n",
       "       [0.99145299, 0.02275449, 0.08607595, ..., 0.24809772, 0.18258007,\n",
       "        0.18793274],\n",
       "       [1.        , 0.34850299, 0.65949367, ..., 0.57589107, 0.28105358,\n",
       "        0.3214639 ]])"
      ]
     },
     "execution_count": 9,
     "metadata": {},
     "output_type": "execute_result"
    }
   ],
   "source": [
    "from sklearn import preprocessing\n",
    "minmax = preprocessing.MinMaxScaler(feature_range=(0,1))\n",
    "minmax.fit(x).transform(x)"
   ]
  },
  {
   "cell_type": "markdown",
   "id": "4171ab7f",
   "metadata": {
    "papermill": {
     "duration": 0.009295,
     "end_time": "2024-10-10T05:14:52.045977",
     "exception": false,
     "start_time": "2024-10-10T05:14:52.036682",
     "status": "completed"
    },
    "tags": []
   },
   "source": [
    "**Divide data into train & test dataset**"
   ]
  },
  {
   "cell_type": "code",
   "execution_count": 10,
   "id": "702ddd09",
   "metadata": {
    "execution": {
     "iopub.execute_input": "2024-10-10T05:14:52.067691Z",
     "iopub.status.busy": "2024-10-10T05:14:52.067033Z",
     "iopub.status.idle": "2024-10-10T05:14:52.338675Z",
     "shell.execute_reply": "2024-10-10T05:14:52.337390Z"
    },
    "papermill": {
     "duration": 0.285728,
     "end_time": "2024-10-10T05:14:52.341390",
     "exception": false,
     "start_time": "2024-10-10T05:14:52.055662",
     "status": "completed"
    },
    "tags": []
   },
   "outputs": [],
   "source": [
    "from sklearn import model_selection,neighbors\n",
    "from sklearn.model_selection import train_test_split\n",
    "x_train,x_test,y_train,y_test=train_test_split(x,y,test_size=0.2)"
   ]
  },
  {
   "cell_type": "code",
   "execution_count": 11,
   "id": "36ba86c1",
   "metadata": {
    "execution": {
     "iopub.execute_input": "2024-10-10T05:14:52.362010Z",
     "iopub.status.busy": "2024-10-10T05:14:52.361511Z",
     "iopub.status.idle": "2024-10-10T05:14:52.386603Z",
     "shell.execute_reply": "2024-10-10T05:14:52.385440Z"
    },
    "papermill": {
     "duration": 0.038346,
     "end_time": "2024-10-10T05:14:52.389103",
     "exception": false,
     "start_time": "2024-10-10T05:14:52.350757",
     "status": "completed"
    },
    "tags": []
   },
   "outputs": [
    {
     "data": {
      "text/html": [
       "<div>\n",
       "<style scoped>\n",
       "    .dataframe tbody tr th:only-of-type {\n",
       "        vertical-align: middle;\n",
       "    }\n",
       "\n",
       "    .dataframe tbody tr th {\n",
       "        vertical-align: top;\n",
       "    }\n",
       "\n",
       "    .dataframe thead th {\n",
       "        text-align: right;\n",
       "    }\n",
       "</style>\n",
       "<table border=\"1\" class=\"dataframe\">\n",
       "  <thead>\n",
       "    <tr style=\"text-align: right;\">\n",
       "      <th></th>\n",
       "      <th>YEAR</th>\n",
       "      <th>JAN</th>\n",
       "      <th>FEB</th>\n",
       "      <th>MAR</th>\n",
       "      <th>APR</th>\n",
       "      <th>MAY</th>\n",
       "      <th>JUN</th>\n",
       "      <th>JUL</th>\n",
       "      <th>AUG</th>\n",
       "      <th>SEP</th>\n",
       "      <th>OCT</th>\n",
       "      <th>NOV</th>\n",
       "      <th>DEC</th>\n",
       "    </tr>\n",
       "  </thead>\n",
       "  <tbody>\n",
       "    <tr>\n",
       "      <th>71</th>\n",
       "      <td>1972</td>\n",
       "      <td>2.6</td>\n",
       "      <td>7.5</td>\n",
       "      <td>2.5</td>\n",
       "      <td>87.5</td>\n",
       "      <td>436.0</td>\n",
       "      <td>401.8</td>\n",
       "      <td>714.4</td>\n",
       "      <td>294.9</td>\n",
       "      <td>185.7</td>\n",
       "      <td>351.5</td>\n",
       "      <td>140.5</td>\n",
       "      <td>114.3</td>\n",
       "    </tr>\n",
       "    <tr>\n",
       "      <th>34</th>\n",
       "      <td>1935</td>\n",
       "      <td>23.9</td>\n",
       "      <td>8.3</td>\n",
       "      <td>18.1</td>\n",
       "      <td>120.7</td>\n",
       "      <td>56.6</td>\n",
       "      <td>431.3</td>\n",
       "      <td>687.3</td>\n",
       "      <td>280.9</td>\n",
       "      <td>283.3</td>\n",
       "      <td>403.8</td>\n",
       "      <td>153.0</td>\n",
       "      <td>30.9</td>\n",
       "    </tr>\n",
       "    <tr>\n",
       "      <th>12</th>\n",
       "      <td>1913</td>\n",
       "      <td>3.1</td>\n",
       "      <td>5.2</td>\n",
       "      <td>20.7</td>\n",
       "      <td>75.7</td>\n",
       "      <td>198.8</td>\n",
       "      <td>541.7</td>\n",
       "      <td>763.2</td>\n",
       "      <td>247.2</td>\n",
       "      <td>176.9</td>\n",
       "      <td>422.5</td>\n",
       "      <td>109.9</td>\n",
       "      <td>45.8</td>\n",
       "    </tr>\n",
       "    <tr>\n",
       "      <th>59</th>\n",
       "      <td>1960</td>\n",
       "      <td>9.4</td>\n",
       "      <td>8.4</td>\n",
       "      <td>44.4</td>\n",
       "      <td>206.6</td>\n",
       "      <td>540.0</td>\n",
       "      <td>480.3</td>\n",
       "      <td>750.9</td>\n",
       "      <td>336.8</td>\n",
       "      <td>371.2</td>\n",
       "      <td>255.9</td>\n",
       "      <td>358.0</td>\n",
       "      <td>23.7</td>\n",
       "    </tr>\n",
       "    <tr>\n",
       "      <th>37</th>\n",
       "      <td>1938</td>\n",
       "      <td>0.3</td>\n",
       "      <td>79.0</td>\n",
       "      <td>53.3</td>\n",
       "      <td>164.5</td>\n",
       "      <td>179.6</td>\n",
       "      <td>681.6</td>\n",
       "      <td>648.6</td>\n",
       "      <td>287.9</td>\n",
       "      <td>223.2</td>\n",
       "      <td>223.7</td>\n",
       "      <td>69.5</td>\n",
       "      <td>22.9</td>\n",
       "    </tr>\n",
       "  </tbody>\n",
       "</table>\n",
       "</div>"
      ],
      "text/plain": [
       "    YEAR   JAN   FEB   MAR    APR    MAY    JUN    JUL    AUG    SEP    OCT  \\\n",
       "71  1972   2.6   7.5   2.5   87.5  436.0  401.8  714.4  294.9  185.7  351.5   \n",
       "34  1935  23.9   8.3  18.1  120.7   56.6  431.3  687.3  280.9  283.3  403.8   \n",
       "12  1913   3.1   5.2  20.7   75.7  198.8  541.7  763.2  247.2  176.9  422.5   \n",
       "59  1960   9.4   8.4  44.4  206.6  540.0  480.3  750.9  336.8  371.2  255.9   \n",
       "37  1938   0.3  79.0  53.3  164.5  179.6  681.6  648.6  287.9  223.2  223.7   \n",
       "\n",
       "      NOV    DEC  \n",
       "71  140.5  114.3  \n",
       "34  153.0   30.9  \n",
       "12  109.9   45.8  \n",
       "59  358.0   23.7  \n",
       "37   69.5   22.9  "
      ]
     },
     "execution_count": 11,
     "metadata": {},
     "output_type": "execute_result"
    }
   ],
   "source": [
    "x_train.head()"
   ]
  },
  {
   "cell_type": "code",
   "execution_count": 12,
   "id": "95f7f7ab",
   "metadata": {
    "execution": {
     "iopub.execute_input": "2024-10-10T05:14:52.410733Z",
     "iopub.status.busy": "2024-10-10T05:14:52.409550Z",
     "iopub.status.idle": "2024-10-10T05:14:52.419087Z",
     "shell.execute_reply": "2024-10-10T05:14:52.417925Z"
    },
    "papermill": {
     "duration": 0.02329,
     "end_time": "2024-10-10T05:14:52.421835",
     "exception": false,
     "start_time": "2024-10-10T05:14:52.398545",
     "status": "completed"
    },
    "tags": []
   },
   "outputs": [
    {
     "data": {
      "text/plain": [
       "71    0\n",
       "34    0\n",
       "12    0\n",
       "59    1\n",
       "37    0\n",
       "Name: FLOODS, dtype: int64"
      ]
     },
     "execution_count": 12,
     "metadata": {},
     "output_type": "execute_result"
    }
   ],
   "source": [
    "y_train.head()"
   ]
  },
  {
   "cell_type": "markdown",
   "id": "f8245c79",
   "metadata": {
    "papermill": {
     "duration": 0.00961,
     "end_time": "2024-10-10T05:14:52.441700",
     "exception": false,
     "start_time": "2024-10-10T05:14:52.432090",
     "status": "completed"
    },
    "tags": []
   },
   "source": [
    "# Logistic Regression"
   ]
  },
  {
   "cell_type": "code",
   "execution_count": 13,
   "id": "249ebcfe",
   "metadata": {
    "execution": {
     "iopub.execute_input": "2024-10-10T05:14:52.464870Z",
     "iopub.status.busy": "2024-10-10T05:14:52.463605Z",
     "iopub.status.idle": "2024-10-10T05:14:52.476807Z",
     "shell.execute_reply": "2024-10-10T05:14:52.475696Z"
    },
    "papermill": {
     "duration": 0.028001,
     "end_time": "2024-10-10T05:14:52.479625",
     "exception": false,
     "start_time": "2024-10-10T05:14:52.451624",
     "status": "completed"
    },
    "tags": []
   },
   "outputs": [],
   "source": [
    "x_train_std = minmax.fit_transform(x_train)\n",
    "x_test_std = minmax.transform(x_test)"
   ]
  },
  {
   "cell_type": "code",
   "execution_count": 14,
   "id": "70f49e71",
   "metadata": {
    "execution": {
     "iopub.execute_input": "2024-10-10T05:14:52.501377Z",
     "iopub.status.busy": "2024-10-10T05:14:52.500894Z",
     "iopub.status.idle": "2024-10-10T05:14:54.689709Z",
     "shell.execute_reply": "2024-10-10T05:14:54.687308Z"
    },
    "papermill": {
     "duration": 2.20301,
     "end_time": "2024-10-10T05:14:54.692486",
     "exception": false,
     "start_time": "2024-10-10T05:14:52.489476",
     "status": "completed"
    },
    "tags": []
   },
   "outputs": [
    {
     "name": "stdout",
     "output_type": "stream",
     "text": [
      "Accuracy: 0.6666666666666666\n",
      "Predictions for test set: [1 1 1 1 0 1 0 0 1 0 1 1 1 0 1 1 1 0 1 1 0 1 0 0]\n"
     ]
    }
   ],
   "source": [
    "from sklearn.linear_model import LogisticRegression\n",
    "from sklearn.model_selection import cross_val_score\n",
    "import numpy as np\n",
    "\n",
    "# Assuming x_train_std and x_test_std are standardized feature sets \n",
    "# and y_train and y_test are the corresponding labels (flood/no flood)\n",
    "\n",
    "# Step 1: Create and train the Logistic Regression model\n",
    "lr = LogisticRegression()\n",
    "lr_clf = lr.fit(x_train_std, y_train)\n",
    "\n",
    "# Step 2: Use cross-validation to check the accuracy\n",
    "cv_accuracy = cross_val_score(lr_clf, x_test_std, y_test, cv=3, scoring='accuracy', n_jobs=-1)\n",
    "print(f\"Accuracy: {np.mean(cv_accuracy)}\")\n",
    "\n",
    "# Step 3: Make predictions on the test data\n",
    "y_pred = lr_clf.predict(x_test_std)\n",
    "\n",
    "# Step 4: Show predictions\n",
    "print(\"Predictions for test set:\", y_pred)\n"
   ]
  }
 ],
 "metadata": {
  "kaggle": {
   "accelerator": "none",
   "dataSources": [
    {
     "datasetId": 866117,
     "sourceId": 1476404,
     "sourceType": "datasetVersion"
    }
   ],
   "dockerImageVersionId": 30786,
   "isGpuEnabled": false,
   "isInternetEnabled": true,
   "language": "python",
   "sourceType": "notebook"
  },
  "kernelspec": {
   "display_name": "Python 3",
   "language": "python",
   "name": "python3"
  },
  "language_info": {
   "codemirror_mode": {
    "name": "ipython",
    "version": 3
   },
   "file_extension": ".py",
   "mimetype": "text/x-python",
   "name": "python",
   "nbconvert_exporter": "python",
   "pygments_lexer": "ipython3",
   "version": "3.10.14"
  },
  "papermill": {
   "default_parameters": {},
   "duration": 11.862551,
   "end_time": "2024-10-10T05:14:57.335896",
   "environment_variables": {},
   "exception": null,
   "input_path": "__notebook__.ipynb",
   "output_path": "__notebook__.ipynb",
   "parameters": {},
   "start_time": "2024-10-10T05:14:45.473345",
   "version": "2.6.0"
  }
 },
 "nbformat": 4,
 "nbformat_minor": 5
}
